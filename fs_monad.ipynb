{
  "cells": [
    {
      "cell_type": "code",
      "execution_count": 1,
      "metadata": {
        "dotnet_interactive": {
          "language": "fsharp"
        }
      },
      "source": [
        "type State = {\n",
        "    keyValues: Map<string,float>\n",
        "    counter: int\n",
        "}\n",
        "\n",
        "let testState = {\n",
        "    keyValues = Map.ofList [\"a\", 1.0; \"b\", 2.0];\n",
        "    counter = 100;\n",
        "}\n",
        "\n",
        "let getKeyValues state = state.keyValues\n",
        "let getCounter state = state.counter\n",
        "\n",
        "// when the type of state isnt declared here, the compiler warns (it still compiles and works though):\n",
        "// the field labels and expected type of this record expression \n",
        "// or pattern do not uniquely determine a corresponding record type\n",
        "// TODO: why? is this .Net Interactive specific or am I doing something wrong?\n",
        "let mapKeyValues f (state : State) = {state with keyValues = f (getKeyValues state)} \n",
        "let mapCounter f (state : State) = {state with counter = f (getCounter state)}\n",
        "\n",
        "let get state key = \n",
        "    let value = Map.find key (getKeyValues state)\n",
        "    value\n",
        "\n",
        "let set state key value =\n",
        "    let newState = mapKeyValues (Map.add key value) state\n",
        "    newState\n",
        "\n",
        "let increment state =\n",
        "    let newState = mapCounter ((+) 1) state\n",
        "    let newCounter = getCounter newState\n",
        "    (newCounter, newState)\n",
        "\n",
        "let test state = \n",
        "    let a = get state \"a\"\n",
        "    let b = get state \"b\"\n",
        "    let state = set state \"c\" (a+b)\n",
        "    let (counter, newState) = increment state\n",
        "    (counter, newState)\n",
        "\n",
        "test testState"
      ],
      "outputs": [
        {
          "output_type": "execute_result",
          "data": {
            "text/html": "<table><thead><tr><th>Item1</th><th>Item2</th></tr></thead><tbody><tr><td><div class=\"dni-plaintext\">101</div></td><td><div class=\"dni-plaintext\">{ keyValues = map [(&quot;a&quot;, 1.0); (&quot;b&quot;, 2.0); (&quot;c&quot;, 3.0)]\n  counter = 101 }</div></td></tr></tbody></table>"
          },
          "execution_count": 1,
          "metadata": {}
        }
      ]
    },
    {
      "cell_type": "markdown",
      "metadata": {},
      "source": [
        "Signatures of the Functions:\n",
        "* **get**: State -> string -> float\n",
        "* **set**: State -> string -> float -> State\n",
        "* **increment**: State -> int * State\n",
        "\n",
        "Refactor return to be the same as increment:"
      ]
    },
    {
      "cell_type": "code",
      "execution_count": 1,
      "metadata": {
        "dotnet_interactive": {
          "language": "fsharp"
        }
      },
      "source": [
        "let get state key =\n",
        "    let value = Map.find key (getKeyValues state)\n",
        "    (value, state)\n",
        "\n",
        "let set state key value =\n",
        "    let newState = mapKeyValues (Map.add key value) state\n",
        "    ((),newState)"
      ],
      "outputs": []
    },
    {
      "cell_type": "markdown",
      "metadata": {},
      "source": [
        "now all functions return a tuplet of 2, first value is return value (or unit), second one is the (updated) state"
      ]
    },
    {
      "cell_type": "code",
      "execution_count": 1,
      "metadata": {
        "dotnet_interactive": {
          "language": "fsharp"
        }
      },
      "source": [
        "let test state = \n",
        "    let (a,state1) = get state \"a\"\n",
        "    let (b,state2) = get state1 \"b\"\n",
        "    let (_,state3) = set state2 \"c\" (a+b)\n",
        "    let (counter, state4) = increment state3\n",
        "    (counter, state4)\n",
        "\n",
        "test testState"
      ],
      "outputs": [
        {
          "output_type": "execute_result",
          "data": {
            "text/html": "<table><thead><tr><th>Item1</th><th>Item2</th></tr></thead><tbody><tr><td><div class=\"dni-plaintext\">101</div></td><td><div class=\"dni-plaintext\">{ keyValues = map [(&quot;a&quot;, 1.0); (&quot;b&quot;, 2.0); (&quot;c&quot;, 3.0)]\n  counter = 101 }</div></td></tr></tbody></table>"
          },
          "execution_count": 1,
          "metadata": {}
        }
      ]
    },
    {
      "cell_type": "markdown",
      "metadata": {},
      "source": [
        "Refactor state to be last argument:"
      ]
    },
    {
      "cell_type": "code",
      "execution_count": 1,
      "metadata": {
        "dotnet_interactive": {
          "language": "fsharp"
        }
      },
      "source": [
        "let get key state =\n",
        "    let value = Map.find key (getKeyValues state)\n",
        "    (value, state)\n",
        "\n",
        "let set key value state =\n",
        "    let newState = mapKeyValues (Map.add key value) state\n",
        "    ((),newState)"
      ],
      "outputs": []
    },
    {
      "cell_type": "markdown",
      "metadata": {},
      "source": [
        "Now our state is always passed as the last parameter"
      ]
    },
    {
      "cell_type": "code",
      "execution_count": 1,
      "metadata": {
        "dotnet_interactive": {
          "language": "fsharp"
        }
      },
      "source": [
        "let test state = \n",
        "    let (a,state1) = get \"a\" state\n",
        "    let (b,state2) = get \"b\" state1\n",
        "    let (_,state3) = set \"c\" (a+b) state2\n",
        "    let (counter, state4) = increment state3\n",
        "    (counter, state4)\n",
        "\n",
        "test testState"
      ],
      "outputs": [
        {
          "output_type": "execute_result",
          "data": {
            "text/html": "<table><thead><tr><th>Item1</th><th>Item2</th></tr></thead><tbody><tr><td><div class=\"dni-plaintext\">101</div></td><td><div class=\"dni-plaintext\">{ keyValues = map [(&quot;a&quot;, 1.0); (&quot;b&quot;, 2.0); (&quot;c&quot;, 3.0)]\n  counter = 101 }</div></td></tr></tbody></table>"
          },
          "execution_count": 1,
          "metadata": {}
        }
      ]
    },
    {
      "cell_type": "markdown",
      "metadata": {},
      "source": [
        "Now refactor to two argument functions\n",
        "\n",
        "incerement4 adds a dummy variable"
      ]
    },
    {
      "cell_type": "code",
      "execution_count": 1,
      "metadata": {
        "dotnet_interactive": {
          "language": "fsharp"
        }
      },
      "source": [
        "let set (key, value) state =\n",
        "    let newState = mapKeyValues (Map.add key value) state\n",
        "    ((),newState)\n",
        "\n",
        "let increment _ state =\n",
        "    let newState = mapCounter ((+) 1) state\n",
        "    let newCounter = getCounter newState\n",
        "    (newCounter, newState)"
      ],
      "outputs": []
    },
    {
      "cell_type": "code",
      "execution_count": 1,
      "metadata": {
        "dotnet_interactive": {
          "language": "fsharp"
        }
      },
      "source": [
        "let test state = \n",
        "    let (a,state1) = get \"a\" state\n",
        "    let (b,state2) = get \"b\" state1\n",
        "    let (_,state3) = set (\"c\", (a+b)) state2\n",
        "    let (counter, state4) = increment () state3\n",
        "    (counter, state4)\n",
        "\n",
        "test testState"
      ],
      "outputs": [
        {
          "output_type": "execute_result",
          "data": {
            "text/html": "<table><thead><tr><th>Item1</th><th>Item2</th></tr></thead><tbody><tr><td><div class=\"dni-plaintext\">101</div></td><td><div class=\"dni-plaintext\">{ keyValues = map [(&quot;a&quot;, 1.0); (&quot;b&quot;, 2.0); (&quot;c&quot;, 3.0)]\n  counter = 101 }</div></td></tr></tbody></table>"
          },
          "execution_count": 1,
          "metadata": {}
        }
      ]
    },
    {
      "cell_type": "markdown",
      "metadata": {},
      "source": [
        "Now we want to refactor state to be an explicit function"
      ]
    },
    {
      "cell_type": "code",
      "execution_count": 1,
      "metadata": {
        "dotnet_interactive": {
          "language": "fsharp"
        }
      },
      "source": [
        "let get key =\n",
        "    fun state -> \n",
        "        let value = Map.find key (getKeyValues state)\n",
        "        (value, state)\n",
        "\n",
        "let set (key, value) =\n",
        "    fun state -> \n",
        "        let newState = mapKeyValues (Map.add key value) state\n",
        "        ((),newState)\n",
        "\n",
        "let increment _ =\n",
        "    fun state ->\n",
        "        let newState = mapCounter ((+) 1) state\n",
        "        let newCounter = getCounter newState\n",
        "        (newCounter, newState)"
      ],
      "outputs": []
    },
    {
      "cell_type": "markdown",
      "metadata": {},
      "source": [
        "I can see set4 as a function with 1 argument which then returns another functions which still needs another argument."
      ]
    },
    {
      "cell_type": "code",
      "execution_count": 1,
      "metadata": {
        "dotnet_interactive": {
          "language": "fsharp"
        }
      },
      "source": [
        "let test state =\n",
        "    let (a,state1) = get \"a\" state\n",
        "    let (b,state2) = get \"b\" state1\n",
        "    let (_,state3) = set (\"c\", (a+b)) state2\n",
        "    let (counter, state4) = increment () state3\n",
        "    (counter, state4)\n",
        "\n",
        "test testState"
      ],
      "outputs": [
        {
          "output_type": "execute_result",
          "data": {
            "text/html": "<table><thead><tr><th>Item1</th><th>Item2</th></tr></thead><tbody><tr><td><div class=\"dni-plaintext\">101</div></td><td><div class=\"dni-plaintext\">{ keyValues = map [(&quot;a&quot;, 1.0); (&quot;b&quot;, 2.0); (&quot;c&quot;, 3.0)]\n  counter = 101 }</div></td></tr></tbody></table>"
          },
          "execution_count": 1,
          "metadata": {}
        }
      ]
    },
    {
      "cell_type": "markdown",
      "metadata": {},
      "source": [
        "Feeding output into inputs"
      ]
    },
    {
      "cell_type": "code",
      "execution_count": 1,
      "metadata": {
        "dotnet_interactive": {
          "language": "fsharp"
        }
      },
      "source": [
        "let bind2 f g arg state =\n",
        "    let (rf, state2) = f arg state\n",
        "    let (rg, state3) = g rf state2\n",
        "    (rg, state3)\n",
        "\n",
        "let bind3 f g h arg state = \n",
        "    let (rf, state2) = f arg state\n",
        "    let (rg, state3) = g rf state2\n",
        "    let (rh, state4) = h rf state3\n",
        "    (rh, state)"
      ],
      "outputs": []
    },
    {
      "cell_type": "markdown",
      "metadata": {},
      "source": [
        "You dont get very far with this approach\n",
        "\n",
        "Instead call f on arg before binding:"
      ]
    },
    {
      "cell_type": "code",
      "execution_count": 1,
      "metadata": {
        "dotnet_interactive": {
          "language": "fsharp"
        }
      },
      "source": [
        "let bind mf g state =\n",
        "    let (rf, state2) = mf state\n",
        "    let (rg, state3) = g rf state2\n",
        "    (rg, state3)"
      ],
      "outputs": []
    },
    {
      "cell_type": "markdown",
      "metadata": {},
      "source": [
        "Now instead of writing bind3 which calls all 3 functions I can use bind:"
      ]
    },
    {
      "cell_type": "code",
      "execution_count": 1,
      "metadata": {
        "dotnet_interactive": {
          "language": "fsharp"
        }
      },
      "source": [
        "let bind3 mf g h =\n",
        "    bind (bind mf g) h"
      ],
      "outputs": []
    },
    {
      "cell_type": "markdown",
      "metadata": {},
      "source": [
        "Some observations:\n",
        "* bind seems to be limited because first parameters is \"already applied\"\n",
        "  * **Not** an isse! first parameter can be introduced at call point\n",
        "  * Eg: fun x -> bind (f x) h\n",
        "* Even better\n",
        "  * First parameter can be braucht in \"from anywhere you want\"!\n",
        "  * Eg: fun x -> ... bind (f x) g ..."
      ]
    },
    {
      "cell_type": "markdown",
      "metadata": {},
      "source": [
        "Introduction of >>= operator:"
      ]
    },
    {
      "cell_type": "code",
      "execution_count": 1,
      "metadata": {
        "dotnet_interactive": {
          "language": "fsharp"
        }
      },
      "source": [
        "let (>>=) mf g =\n",
        "    bind mf g\n",
        "\n",
        "let bind3 mf g h =\n",
        "    mf >>= g >>= h // equivalent to (mf >>= g) >>= h"
      ],
      "outputs": []
    },
    {
      "cell_type": "markdown",
      "metadata": {},
      "source": [
        "This assumes the explicit function notation"
      ]
    },
    {
      "cell_type": "markdown",
      "metadata": {},
      "source": [
        "\"Binding\" get followed by get\n",
        "\n",
        "*bind (f x) g* or *(f x) >> g*\n",
        "\n",
        "So.. *(get \"a\") >>= get*\n",
        "Will take the value returned by *get \"a\"* and give it as input to *get...*\n",
        "But this is not what we want (also it wouldnt compile since get needs a string as argument)\n",
        "We want to pass a separate argument to the second call to get and not use the *1*, that *get \"a\"* returns as an input parameter for the second get call. And we want to use the first get call later.\n",
        "\n",
        "We want *(get \"a\") >>= (fun a -> get \"b\")\n",
        ""
      ]
    },
    {
      "cell_type": "code",
      "execution_count": 1,
      "metadata": {
        "dotnet_interactive": {
          "language": "fsharp"
        }
      },
      "source": [
        "let test =\n",
        "    get \"a\" >>= fun a ->\n",
        "    get \"b\" >>= fun b ->\n",
        "    set (\"c\", (a+b)) >>=\n",
        "    increment\n",
        "\n",
        "// let test =\n",
        "//     get \"a\" \n",
        "//     >>= fun a ->\n",
        "//         get \"b\" \n",
        "//         >>= fun b ->\n",
        "//             set (\"c\", (a+b)) \n",
        "//             >>= increment\n",
        "test testState"
      ],
      "outputs": [
        {
          "output_type": "execute_result",
          "data": {
            "text/html": "<table><thead><tr><th>Item1</th><th>Item2</th></tr></thead><tbody><tr><td><div class=\"dni-plaintext\">101</div></td><td><div class=\"dni-plaintext\">{ keyValues = map [(&quot;a&quot;, 1.0); (&quot;b&quot;, 2.0); (&quot;c&quot;, 3.0)]\n  counter = 101 }</div></td></tr></tbody></table>"
          },
          "execution_count": 1,
          "metadata": {}
        }
      ]
    },
    {
      "cell_type": "markdown",
      "metadata": {},
      "source": [
        "*get \"a\"* returns a value which is bound to the a-Variable \n",
        "\n",
        "*set (\"c\", (a+b)) returns a unit value, which can be directly bound to increment"
      ]
    },
    {
      "cell_type": "markdown",
      "metadata": {},
      "source": [
        "Cleaning up functions with no args:"
      ]
    },
    {
      "cell_type": "code",
      "execution_count": 1,
      "metadata": {
        "dotnet_interactive": {
          "language": "fsharp"
        }
      },
      "source": [
        "let (>>/) mf mg =\n",
        "    mf >>= (fun _ -> mg)\n",
        "\n",
        "let increment =\n",
        "    fun state ->\n",
        "        let newState = mapCounter ((+) 1) state\n",
        "        let newCounter = getCounter newState\n",
        "        (newCounter, newState)"
      ],
      "outputs": []
    },
    {
      "cell_type": "code",
      "execution_count": 1,
      "metadata": {
        "dotnet_interactive": {
          "language": "fsharp"
        }
      },
      "source": [
        "let test =\n",
        "    get \"a\" >>= fun a ->\n",
        "    get \"b\" >>= fun b ->\n",
        "    set (\"c\", (a+b)) >>/\n",
        "    increment\n",
        "\n",
        "test testState"
      ],
      "outputs": [
        {
          "output_type": "execute_result",
          "data": {
            "text/html": "<table><thead><tr><th>Item1</th><th>Item2</th></tr></thead><tbody><tr><td><div class=\"dni-plaintext\">101</div></td><td><div class=\"dni-plaintext\">{ keyValues = map [(&quot;a&quot;, 1.0); (&quot;b&quot;, 2.0); (&quot;c&quot;, 3.0)]\n  counter = 101 }</div></td></tr></tbody></table>"
          },
          "execution_count": 1,
          "metadata": {}
        }
      ]
    },
    {
      "cell_type": "markdown",
      "metadata": {},
      "source": [
        "A first example of \"monadic programming\":\n",
        "\n",
        "We write a \"monadic\" function, which is meant to work with the bind operator"
      ]
    },
    {
      "cell_type": "code",
      "execution_count": 1,
      "metadata": {
        "dotnet_interactive": {
          "language": "fsharp"
        }
      },
      "source": [
        "let ret x = fun state -> (x, state)"
      ],
      "outputs": []
    },
    {
      "cell_type": "markdown",
      "metadata": {},
      "source": [
        "This will return the value x and just passes the state through"
      ]
    },
    {
      "cell_type": "code",
      "execution_count": 1,
      "metadata": {
        "dotnet_interactive": {
          "language": "fsharp"
        }
      },
      "source": [
        "let test =\n",
        "    get \"a\" >>= fun a ->\n",
        "    get \"b\" >>= fun b ->\n",
        "    set (\"c\", (a+b)) >>/\n",
        "    increment  >>= fun counter ->\n",
        "    ret counter\n",
        "\n",
        "test testState"
      ],
      "outputs": [
        {
          "output_type": "execute_result",
          "data": {
            "text/html": "<table><thead><tr><th>Item1</th><th>Item2</th></tr></thead><tbody><tr><td><div class=\"dni-plaintext\">101</div></td><td><div class=\"dni-plaintext\">{ keyValues = map [(&quot;a&quot;, 1.0); (&quot;b&quot;, 2.0); (&quot;c&quot;, 3.0)]\n  counter = 101 }</div></td></tr></tbody></table>"
          },
          "execution_count": 1,
          "metadata": {}
        }
      ]
    },
    {
      "cell_type": "markdown",
      "metadata": {},
      "source": [
        "So in the end we get the same result"
      ]
    },
    {
      "cell_type": "markdown",
      "metadata": {},
      "source": [
        "The \"do\" notation: computation expressions\n",
        "\n",
        "First, we need a new type which implements members Bind, Combine and Return"
      ]
    },
    {
      "cell_type": "code",
      "execution_count": 1,
      "metadata": {
        "dotnet_interactive": {
          "language": "fsharp"
        }
      },
      "source": [
        "type StateM() =\n",
        "    member b.Bind (m, f) =\n",
        "        m >>= f\n",
        "    member b.Combine (m1, m2) =\n",
        "        m1 >>/ m2\n",
        "    member b.Return x =\n",
        "        ret x"
      ],
      "outputs": []
    },
    {
      "cell_type": "markdown",
      "metadata": {},
      "source": [
        "then we can rewrite our test function with the do notation\n",
        "* *>>=* becomes *let!* (\"letBang\")\n",
        "* *>>/* becomes *do!*\n",
        "* *ret* becomes return"
      ]
    },
    {
      "cell_type": "code",
      "execution_count": 1,
      "metadata": {
        "dotnet_interactive": {
          "language": "fsharp"
        }
      },
      "source": [
        "let stateM = StateM()\n",
        "\n",
        "let test =\n",
        "    stateM {\n",
        "        let! a = get \"a\"\n",
        "        let! b = get \"b\"\n",
        "        do! set (\"c\", (a+b))\n",
        "        let! counter = increment\n",
        "        return counter\n",
        "    }\n",
        "\n",
        "test testState"
      ],
      "outputs": [
        {
          "output_type": "execute_result",
          "data": {
            "text/html": "<table><thead><tr><th>Item1</th><th>Item2</th></tr></thead><tbody><tr><td><div class=\"dni-plaintext\">101</div></td><td><div class=\"dni-plaintext\">{ keyValues = map [(&quot;a&quot;, 1.0); (&quot;b&quot;, 2.0); (&quot;c&quot;, 3.0)]\n  counter = 101 }</div></td></tr></tbody></table>"
          },
          "execution_count": 1,
          "metadata": {}
        }
      ]
    },
    {
      "cell_type": "markdown",
      "metadata": {},
      "source": [
        "* the bind operator is working with the \"lower\" expressions first (lazy?)\n",
        "* if we use the do notation in the lower expression, we get a function, that is compatible with the bind\n",
        "* it is the same thing as using the earlier implementation\n",
        "* mixing the two styles is not very common, but it is perfectly ok\n",
        ""
      ]
    },
    {
      "cell_type": "code",
      "execution_count": 1,
      "metadata": {
        "dotnet_interactive": {
          "language": "fsharp"
        }
      },
      "source": [
        "let test =\n",
        "    get \"a\" >>= fun a ->\n",
        "    get \"b\" >>= fun b ->\n",
        "    stateM {\n",
        "        do! set (\"c\", (a+b))\n",
        "        let! counter = increment\n",
        "        return counter\n",
        "    }\n",
        "\n",
        "test testState"
      ],
      "outputs": [
        {
          "output_type": "execute_result",
          "data": {
            "text/html": "<table><thead><tr><th>Item1</th><th>Item2</th></tr></thead><tbody><tr><td><div class=\"dni-plaintext\">101</div></td><td><div class=\"dni-plaintext\">{ keyValues = map [(&quot;a&quot;, 1.0); (&quot;b&quot;, 2.0); (&quot;c&quot;, 3.0)]\n  counter = 101 }</div></td></tr></tbody></table>"
          },
          "execution_count": 1,
          "metadata": {}
        }
      ]
    },
    {
      "cell_type": "markdown",
      "metadata": {},
      "source": [
        "Applying the do notation to all the functions"
      ]
    },
    {
      "cell_type": "code",
      "execution_count": 1,
      "metadata": {
        "dotnet_interactive": {
          "language": "fsharp"
        }
      },
      "source": [
        "let getState f = (fun s -> (f s, s))\n",
        "let mapState f = (fun s -> ((), f s))\n",
        "\n",
        "let get key =\n",
        "    stateM {\n",
        "        let! kv = getState getKeyValues\n",
        "        return Map.find key kv\n",
        "    }\n",
        "\n",
        "let set (key, value) = \n",
        "    stateM {\n",
        "        do! mapState (mapKeyValues (Map.add key value))\n",
        "    }\n",
        "\n",
        "let increment = \n",
        "    stateM {\n",
        "        do! mapState (mapCounter ((+) 1))\n",
        "        let! counter = getState getCounter\n",
        "        return counter\n",
        "    }\n",
        "\n",
        "let test =\n",
        "    stateM {\n",
        "        let! a = get \"a\" \n",
        "        let! b = get \"b\" \n",
        "        do! set (\"c\",(a+b)) \n",
        "        let! counter = increment\n",
        "        return counter\n",
        "    }\n",
        "\n",
        "test testState\n",
        "\n",
        "\n",
        ""
      ],
      "outputs": [
        {
          "output_type": "execute_result",
          "data": {
            "text/html": "<table><thead><tr><th>Item1</th><th>Item2</th></tr></thead><tbody><tr><td><div class=\"dni-plaintext\">101</div></td><td><div class=\"dni-plaintext\">{ keyValues = map [(&quot;a&quot;, 1.0); (&quot;b&quot;, 2.0); (&quot;c&quot;, 3.0)]\n  counter = 101 }</div></td></tr></tbody></table>"
          },
          "execution_count": 1,
          "metadata": {}
        }
      ]
    },
    {
      "cell_type": "markdown",
      "metadata": {},
      "source": [
        "Welcome to the monad!\n",
        "\n",
        "A monad is \n",
        "* polymorphic - types can be changing from line to line\n",
        "* composable - compose things together while staying in the same framework of thinking\n",
        "* flexibly \"linkable\" with the bind operator\n",
        "  * \"all ready\": m\\<a\\>\n",
        "  * \"waiting for an arg\": a->m\\<b\\>\n",
        "* carries something hidden - but do I really want that? (debugging?)\n",
        "* still neds to be executed / run"
      ]
    },
    {
      "cell_type": "markdown",
      "metadata": {},
      "source": [
        "Making the execution more explicit"
      ]
    },
    {
      "cell_type": "code",
      "execution_count": 1,
      "metadata": {
        "dotnet_interactive": {
          "language": "fsharp"
        }
      },
      "source": [
        "let run m state = m state\n",
        "let test state = run test state\n",
        "test testState"
      ],
      "outputs": [
        {
          "output_type": "execute_result",
          "data": {
            "text/html": "<table><thead><tr><th>Item1</th><th>Item2</th></tr></thead><tbody><tr><td><div class=\"dni-plaintext\">101</div></td><td><div class=\"dni-plaintext\">{ keyValues = map [(&quot;a&quot;, 1.0); (&quot;b&quot;, 2.0); (&quot;c&quot;, 3.0)]\n  counter = 101 }</div></td></tr></tbody></table>"
          },
          "execution_count": 1,
          "metadata": {}
        }
      ]
    },
    {
      "cell_type": "markdown",
      "metadata": {},
      "source": [
        "Giving the monad its own type"
      ]
    },
    {
      "cell_type": "code",
      "execution_count": 1,
      "metadata": {
        "dotnet_interactive": {
          "language": "fsharp"
        }
      },
      "source": [
        "type SM<'s,'r> =\n",
        "    SM of ('s -> 'r*'s)\n",
        ""
      ],
      "outputs": []
    },
    {
      "cell_type": "markdown",
      "metadata": {},
      "source": [
        ""
      ]
    },
    {
      "cell_type": "code",
      "execution_count": 1,
      "metadata": {
        "dotnet_interactive": {
          "language": "fsharp"
        }
      },
      "source": [
        "let getState f =\n",
        "    SM (fun s -> (f s, s))\n",
        "let mapState f =\n",
        "    SM (fun s-> ((), f s))\n",
        "let ret x =\n",
        "    SM (fun s -> (x,s))\n",
        "\n",
        "let run m state =\n",
        "    match m with\n",
        "    | SM f -> f state\n",
        "\n",
        "let bind mf g =\n",
        "    SM(fun state ->\n",
        "        let (rf, state2) = run mf state\n",
        "        let (rg, state3) = run (g rf) state2\n",
        "        (rg, state3))"
      ],
      "outputs": []
    },
    {
      "cell_type": "markdown",
      "metadata": {},
      "source": [
        "bind has 2 arguments which have a monadic character. We need to use run to take them apart. mf is the pure monad, it does not expect any more arguments. g expects 2 arguments and returns a monad when the first argument is applied"
      ]
    },
    {
      "cell_type": "code",
      "execution_count": 1,
      "metadata": {
        "dotnet_interactive": {
          "language": "fsharp"
        }
      },
      "source": [
        "type StateM() =\n",
        "    member b.Bind (m, f) = bind m f\n",
        "    member b.Combine (m1, m2) = bind m1 (fun _ -> m2)\n",
        "    member b.Return x = ret x\n",
        "\n",
        "let stateM = StateM()\n",
        "\n",
        "let get key =\n",
        "    stateM {\n",
        "        let! kv = getState getKeyValues\n",
        "        return Map.find key kv\n",
        "    }\n",
        "\n",
        "let set (key, value) = \n",
        "    stateM {\n",
        "        do! mapState (mapKeyValues (Map.add key value))\n",
        "    }\n",
        "\n",
        "let increment = \n",
        "    stateM {\n",
        "        do! mapState (mapCounter ((+) 1))\n",
        "        let! counter = getState getCounter\n",
        "        return counter\n",
        "    }\n",
        "\n",
        "let test =\n",
        "    stateM {\n",
        "        let! a = get \"a\" \n",
        "        let! b = get \"b\" \n",
        "        do! set (\"c\",(a+b)) \n",
        "        let! counter = increment\n",
        "        return counter\n",
        "    }\n",
        "\n",
        "let test1 state = run test state\n",
        "\n",
        "test1 testState\n",
        ""
      ],
      "outputs": [
        {
          "output_type": "execute_result",
          "data": {
            "text/html": "<table><thead><tr><th>Item1</th><th>Item2</th></tr></thead><tbody><tr><td><div class=\"dni-plaintext\">101</div></td><td><div class=\"dni-plaintext\">{ keyValues = map [(&quot;a&quot;, 1.0); (&quot;b&quot;, 2.0); (&quot;c&quot;, 3.0)]\n  counter = 101 }</div></td></tr></tbody></table>"
          },
          "execution_count": 1,
          "metadata": {}
        }
      ]
    },
    {
      "cell_type": "code",
      "execution_count": 1,
      "metadata": {
        "dotnet_interactive": {
          "language": "fsharp"
        }
      },
      "source": [
        "let bindOpt mf g =\n",
        "    SM(fun state ->\n",
        "        let (rf, state2) = run mf state\n",
        "        match rf with\n",
        "        | Some rfv -> \n",
        "            let (rg, state3) = run (g rfv) state2\n",
        "            match rg with\n",
        "            | Some _ -> (rg, state3)\n",
        "            | None -> (None, state)\n",
        "        | None -> (None, state))"
      ],
      "outputs": []
    },
    {
      "cell_type": "code",
      "execution_count": 1,
      "metadata": {
        "dotnet_interactive": {
          "language": "fsharp"
        }
      },
      "source": [
        ""
      ],
      "outputs": []
    }
  ],
  "metadata": {
    "kernelspec": {
      "display_name": ".NET (C#)",
      "language": "C#",
      "name": ".net-csharp"
    },
    "language_info": {
      "file_extension": ".cs",
      "mimetype": "text/x-csharp",
      "name": "C#",
      "pygments_lexer": "csharp",
      "version": "8.0"
    }
  },
  "nbformat": 4,
  "nbformat_minor": 4
}