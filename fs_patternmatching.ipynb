{
  "cells": [
    {
      "cell_type": "markdown",
      "metadata": {},
      "source": [
        "Constant Pattern\n",
        "* Any numeric, character, or string literal, an enumeration constant, or a defined literal identifier\n",
        "* 1.0, \"test\", 30, Color.Red"
      ]
    },
    {
      "cell_type": "code",
      "execution_count": 1,
      "metadata": {
        "dotnet_interactive": {
          "language": "fsharp"
        }
      },
      "source": [
        "let constantPattern v =\n",
        "    match v with\n",
        "    | 1.0 -> \"its 1.0!\"\n",
        "    | _ -> $\"its {v} :(\"\n",
        "\n",
        "constantPattern 1.0\n",
        "constantPattern 3.14159"
      ],
      "outputs": [
        {
          "output_type": "execute_result",
          "data": {
            "text/plain": "its 3.14159 :("
          },
          "execution_count": 1,
          "metadata": {}
        }
      ]
    },
    {
      "cell_type": "code",
      "execution_count": 1,
      "metadata": {
        "dotnet_interactive": {
          "language": "fsharp"
        }
      },
      "source": [
        "let constantPattern v =\n",
        "    match v with\n",
        "    | \"test\" -> \"This is a test!\"\n",
        "    | _ -> \"This is not a test!\"\n",
        "\n",
        "constantPattern \"test\""
      ],
      "outputs": [
        {
          "output_type": "execute_result",
          "data": {
            "text/plain": "This is a test!"
          },
          "execution_count": 1,
          "metadata": {}
        }
      ]
    },
    {
      "cell_type": "markdown",
      "metadata": {},
      "source": [
        "Identifier Pattern\n",
        "* A case value of a discriminated union, an exception label, or an active pattern case\n",
        "* Some(x) Failure(msg)"
      ]
    },
    {
      "cell_type": "code",
      "execution_count": 1,
      "metadata": {
        "dotnet_interactive": {
          "language": "fsharp"
        }
      },
      "source": [
        "let identifierPattern v =\n",
        "    match v with\n",
        "    | Some v -> $\"We have some value \\\"{v}\\\"\"\n",
        "    | None -> $\"We have no value\"\n",
        "\n",
        "identifierPattern (Some 1)"
      ],
      "outputs": [
        {
          "output_type": "execute_result",
          "data": {
            "text/plain": "We have some value \"1\""
          },
          "execution_count": 1,
          "metadata": {}
        }
      ]
    },
    {
      "cell_type": "code",
      "execution_count": 1,
      "metadata": {
        "dotnet_interactive": {
          "language": "fsharp"
        }
      },
      "source": [
        "let divideFailwith x y =\n",
        "  if (y = 0) then failwith \"Divisor cannot be zero.\"\n",
        "  else\n",
        "    x / y\n",
        "\n",
        "let testDivideFailwith x y =\n",
        "  try\n",
        "     divideFailwith x y\n",
        "  with\n",
        "     | Failure(msg) -> printfn $\"{msg}\" ; 0\n",
        "\n",
        "testDivideFailwith 100 0"
      ],
      "outputs": [
        {
          "output_type": "execute_result",
          "data": {
            "text/plain": "msg"
          },
          "execution_count": 1,
          "metadata": {}
        },
        {
          "output_type": "execute_result",
          "data": {
            "text/plain": "\r\n"
          },
          "execution_count": 1,
          "metadata": {}
        },
        {
          "output_type": "execute_result",
          "data": {
            "text/html": "<div class=\"dni-plaintext\">0</div>"
          },
          "execution_count": 1,
          "metadata": {}
        }
      ]
    }
  ],
  "metadata": {
    "kernelspec": {
      "display_name": ".NET (C#)",
      "language": "C#",
      "name": ".net-csharp"
    },
    "language_info": {
      "file_extension": ".cs",
      "mimetype": "text/x-csharp",
      "name": "C#",
      "pygments_lexer": "csharp",
      "version": "8.0"
    }
  },
  "nbformat": 4,
  "nbformat_minor": 4
}