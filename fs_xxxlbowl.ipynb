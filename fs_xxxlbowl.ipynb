{
  "cells": [
    {
      "cell_type": "markdown",
      "metadata": {},
      "source": [
        "The Domain\n",
        "\n",
        "The main goal is to generate a Matchcard. Sample Matchcards can be found in the Excel Sheet. A Team's Matchcard contains these informations:\n",
        "* The Treasury of the team before a game\n",
        "* The Winnings of the team in the match\n",
        "* The upkeep, which is depending on whether or not players are Starplayers and how high the initial cost of the starplayer was\n",
        "* The future treasury, which is the treasury before the game + winnings - upkeep\n",
        "* Also, in case the coach has players with special roles, special bowlbot commands are generated."
      ]
    },
    {
      "cell_type": "code",
      "execution_count": 1,
      "metadata": {
        "dotnet_interactive": {
          "language": "fsharp"
        }
      },
      "source": [
        "type Currency = Currency of int\n",
        "let sumCurrency cs = Currency(List.sumBy (fun (Currency c) -> c) cs)\n",
        "\n",
        "type Position =\n",
        "    | Shaman\n",
        "    | PlayerCoach\n",
        "    | Cheerleader\n",
        "    | Filcher\n",
        "    | BribedRef\n",
        "    | Fan\n",
        "    | SquigTamer\n",
        "\n",
        "let toPosition p = \n",
        "    match p with\n",
        "    | \"Shaman\" -> Some Shaman\n",
        "    | \"Player-Coach\" -> Some PlayerCoach\n",
        "    | \"Cheerleader\" -> Some Cheerleader\n",
        "    | \"Filcher\" -> Some Filcher\n",
        "    | \"Bribed Ref\" -> Some BribedRef\n",
        "    | \"Fan\" -> Some Fan\n",
        "    | \"Squig Tamer\" -> Some SquigTamer\n",
        "    | _ -> None\n",
        "\n",
        "let toUpkeep c =\n",
        "    if c < 56000 then (Currency 10000)\n",
        "    elif c < 106000 then (Currency 20000)\n",
        "    elif c < 156000 then (Currency 30000)\n",
        "    elif c < 206000 then (Currency 40000)\n",
        "    elif c < 301000 then (Currency 50000)\n",
        "    else (Currency 60000)\n",
        "\n",
        "type Player = \n",
        "    | Normal of string\n",
        "    | Star of string * Currency\n",
        "    | Special of string * Position\n",
        "\n",
        "let rec getBowlbotMessage position players =\n",
        "    match players with\n",
        "    | [] -> \"Not rostered\"\n",
        "    | head::tail ->\n",
        "        match head with\n",
        "        | Special (_,p) when p = position -> \n",
        "            match p with\n",
        "            | Shaman -> \"bb1d6,1d8\"\n",
        "            | PlayerCoach -> \"bb1dX,1d15\"\n",
        "            | Cheerleader -> \"bb1d6\"\n",
        "            | Filcher -> \"bb1d6\"\n",
        "            | BribedRef -> \"bb1d6\"\n",
        "            | Fan -> \"bb1d6\"\n",
        "            | SquigTamer -> \"bb1d6\"\n",
        "        | _ -> getBowlbotMessage position tail\n",
        "\n",
        "type FanFactor = FanFactor of int\n",
        "\n",
        "type Team = {\n",
        "    Name : string\n",
        "    Treasury : Currency\n",
        "    FanFactor : FanFactor\n",
        "    Players : Player list\n",
        "}\n",
        "let createTeam name treasury fanfactor players getUpkeep =\n",
        "    {\n",
        "        Name = name\n",
        "        Treasury = treasury\n",
        "        FanFactor = fanfactor\n",
        "        Players =\n",
        "            players \n",
        "            |> List.map (fun (name, position, positionid) -> \n",
        "                if position.Equals(name) then \n",
        "                    Star (name, getUpkeep positionid)\n",
        "                else\n",
        "                    match toPosition position with\n",
        "                    | Some pos -> Special (name, pos)\n",
        "                    | None -> Normal name\n",
        "                )\n",
        "    }\n",
        "\n",
        "type MatchResult = {\n",
        "    Winnings : Currency\n",
        "}\n",
        "\n",
        "type Match = {\n",
        "    Team1 : Team * MatchResult\n",
        "    Team2 : Team * MatchResult\n",
        "}\n",
        "\n",
        "let toMatchCard (t,r) =\n",
        "    let teamname = t.Name\n",
        "    let (Currency winnings) = r.Winnings\n",
        "    let (Currency treasury) = t.Treasury\n",
        "    let (Currency upkeep) = \n",
        "        t.Players \n",
        "        |> List.choose (fun p -> \n",
        "            match p with\n",
        "            | Star (_,upkeep) -> Some upkeep\n",
        "            | _ -> None)\n",
        "        |> sumCurrency\n",
        "        \n",
        "    $\"{teamname}\\n\" +\n",
        "    $\"XXXLBowl #1\\n\" +\n",
        "    $\"Treasury: {treasury-winnings}\\n\"+\n",
        "    $\":winnings: {winnings}\\n\" +\n",
        "    $\":ref: {getBowlbotMessage BribedRef t.Players}\\n\" +\n",
        "    $\":fan: {getBowlbotMessage Fan t.Players}\\n\" +\n",
        "    $\":upkeep: {upkeep}\\n\" +\n",
        "    $\"Future Treasury: {treasury-upkeep}\\n\" +\n",
        "    $\"Specialist Rolls:\\n\" +\n",
        "    $\":cheer: {getBowlbotMessage Cheerleader t.Players}\\n\" +\n",
        "    $\":fan: {getBowlbotMessage Fan t.Players}\\n\" +\n",
        "    $\":filcher: {getBowlbotMessage Filcher t.Players}\\n\" +\n",
        "    $\":coach: {getBowlbotMessage PlayerCoach t.Players}\\n\" +\n",
        "    $\":shaman: {getBowlbotMessage Shaman t.Players}\\n\" +\n",
        "    $\":tamer: {getBowlbotMessage SquigTamer t.Players}\\n\""
      ],
      "outputs": []
    },
    {
      "cell_type": "markdown",
      "metadata": {},
      "source": [
        "The API\n",
        "https://fumbbl.com/apidoc/#"
      ]
    },
    {
      "cell_type": "code",
      "execution_count": 1,
      "metadata": {
        "dotnet_interactive": {
          "language": "fsharp"
        }
      },
      "source": [
        "#r \"nuget: FsHttp\"\n",
        "\n",
        "open FsHttp\n",
        "open FSharp.Data\n",
        "\n",
        "[<Literal>] \n",
        "let FumblAPI = \"https://fumbbl.com/api/\"\n",
        "[<Literal>] \n",
        "let PositionEndpoint = FumblAPI + \"position/get/\"\n",
        "[<Literal>] \n",
        "let TeamEndpoint = FumblAPI + \"team/get/\"\n",
        "[<Literal>] \n",
        "let MatchEndpoint = FumblAPI + \"match/get/\"\n",
        "\n",
        "[<Literal>] \n",
        "let PositionSample = PositionEndpoint + \"36290\"\n",
        "type JsonPosition = JsonProvider<PositionSample>\n",
        "let getPosition (i:int) = \n",
        "    http {\n",
        "        GET $\"{PositionEndpoint}{i}\"\n",
        "    }\n",
        "    |> toText\n",
        "    |> JsonPosition.Parse\n",
        "\n",
        "let getUpkeep i = \n",
        "    getPosition i\n",
        "    |> fun pos -> toUpkeep pos.Cost\n",
        "\n",
        "[<Literal>] \n",
        "let TeamSample = TeamEndpoint + \"997349\"\n",
        "type JsonTeam = JsonProvider<TeamSample>\n",
        "let getTeam (i:int) =\n",
        "    http {\n",
        "        GET $\"{TeamEndpoint}{i}\"\n",
        "    }\n",
        "    |> toText\n",
        "    |> JsonTeam.Parse\n",
        "    |> fun t -> createTeam t.Name (Currency t.Treasury) (FanFactor t.FanFactor) (t.Players |> Array.toList |> List.map (fun p -> (p.Name, p.Position, p.PositionId))) getUpkeep\n",
        "\n",
        "[<Literal>] \n",
        "let MatchSample = MatchEndpoint + \"4284928\"\n",
        "type JsonMatch = JsonProvider<MatchSample>\n",
        "let getMatch (i:int) = \n",
        "    http {\n",
        "        GET $\"{MatchEndpoint}{i}\"\n",
        "    }\n",
        "    |> toText\n",
        "    |> JsonMatch.Parse\n",
        "    |> fun m -> { \n",
        "            Team1 = (getTeam m.Team1.Id, {Winnings = Currency m.Team1.Winnings})\n",
        "            Team2 = (getTeam m.Team2.Id, {Winnings = Currency m.Team2.Winnings})\n",
        "        }"
      ],
      "outputs": []
    },
    {
      "cell_type": "markdown",
      "metadata": {},
      "source": [
        "To get the required data to create MatchCards for a Match first, load the match with \n",
        "```\n",
        "getMatch {MatchID}\n",
        "```"
      ]
    },
    {
      "cell_type": "code",
      "execution_count": 1,
      "metadata": {
        "dotnet_interactive": {
          "language": "fsharp"
        }
      },
      "source": [
        "let matchData = getMatch 4284928"
      ],
      "outputs": []
    },
    {
      "cell_type": "markdown",
      "metadata": {},
      "source": [
        "Then you can create matchcards for each team with\n",
        "```\n",
        "toMatchCard {team}\n",
        "```"
      ]
    },
    {
      "cell_type": "code",
      "execution_count": 1,
      "metadata": {
        "dotnet_interactive": {
          "language": "fsharp"
        }
      },
      "source": [
        "toMatchCard matchData.Team1"
      ],
      "outputs": [
        {
          "output_type": "execute_result",
          "data": {
            "text/plain": "Bogan Picnic Hamper Stealers\nXXXLBowl #1\nTreasury: 144000\n:winnings: 60000\n:ref: Not rostered\n:fan: Not rostered\n:upkeep: 0\nFuture Treasury: 204000\nSpecialist Rolls:\n:cheer: Not rostered\n:fan: Not rostered\n:filcher: bb1d6\n:coach: Not rostered\n:shaman: Not rostered\n:tamer: Not rostered\n"
          },
          "execution_count": 1,
          "metadata": {}
        }
      ]
    },
    {
      "cell_type": "code",
      "execution_count": 1,
      "metadata": {
        "dotnet_interactive": {
          "language": "fsharp"
        }
      },
      "source": [
        "toMatchCard matchData.Team2"
      ],
      "outputs": [
        {
          "output_type": "execute_result",
          "data": {
            "text/plain": "Black Tooth Rips\nXXXLBowl #1\nTreasury: 11000\n:winnings: 70000\n:ref: bb1d6\n:fan: bb1d6\n:upkeep: 70000\nFuture Treasury: 11000\nSpecialist Rolls:\n:cheer: bb1d6\n:fan: bb1d6\n:filcher: bb1d6\n:coach: Not rostered\n:shaman: bb1d6,1d8\n:tamer: Not rostered\n"
          },
          "execution_count": 1,
          "metadata": {}
        }
      ]
    }
  ],
  "metadata": {
    "kernelspec": {
      "display_name": ".NET (C#)",
      "language": "C#",
      "name": ".net-csharp"
    },
    "language_info": {
      "file_extension": ".cs",
      "mimetype": "text/x-csharp",
      "name": "C#",
      "pygments_lexer": "csharp",
      "version": "8.0"
    }
  },
  "nbformat": 4,
  "nbformat_minor": 4
}